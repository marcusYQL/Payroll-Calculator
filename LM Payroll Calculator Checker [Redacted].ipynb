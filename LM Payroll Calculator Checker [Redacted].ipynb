{
 "cells": [
  {
   "cell_type": "code",
   "execution_count": null,
   "id": "6501d7ac-4782-4c4d-a474-1f2afce5a22a",
   "metadata": {},
   "outputs": [],
   "source": [
    "# Import the packages we need\n",
    "\n",
    "import pandas as pd\n",
    "import numpy as np\n",
    "from datetime import *\n",
    "import math"
   ]
  },
  {
   "cell_type": "code",
   "execution_count": null,
   "id": "74a87175-cba7-4495-889b-edf0acefdc83",
   "metadata": {},
   "outputs": [],
   "source": [
    "# Import the raw transaction level data for each route in a certain month\n",
    "\n",
    "df1 = pd.read_csv(\"01_07_2023.csv\",low_memory=False)\n",
    "df2 = pd.read_csv(\"02_07_2023.csv\",low_memory=False)\n",
    "\n",
    "df = pd.concat([df1,df2]).reset_index(drop=True)"
   ]
  },
  {
   "cell_type": "code",
   "execution_count": null,
   "id": "bf18f92d-450d-45db-a420-e954efc81233",
   "metadata": {},
   "outputs": [],
   "source": [
    "# Data Cleaning\n",
    "df['route_zone'] = df['route_zone'].str.strip()"
   ]
  },
  {
   "cell_type": "code",
   "execution_count": null,
   "id": "fd0e4cc0-8829-4695-a2e7-01f320aac7e3",
   "metadata": {},
   "outputs": [],
   "source": [
    "rz_db = pd.read_csv('rz_db.csv')"
   ]
  },
  {
   "cell_type": "code",
   "execution_count": null,
   "id": "1e6f9278-6929-4251-90a0-7428cebd96e8",
   "metadata": {},
   "outputs": [],
   "source": [
    "rz_db['Route Zone'] = rz_db['Route Zone'].str.strip()"
   ]
  },
  {
   "cell_type": "code",
   "execution_count": null,
   "id": "f384b249-2c52-49b7-96c3-fdca11b06129",
   "metadata": {},
   "outputs": [],
   "source": [
    "# Combine the data together\n",
    "\n",
    "df2 = df.merge(rz_db[['Route Zone','Zone Type']], left_on='route_zone',right_on='Route Zone',how='left')"
   ]
  },
  {
   "cell_type": "code",
   "execution_count": null,
   "id": "b02d1142-3d06-475a-9637-88b417d8306b",
   "metadata": {},
   "outputs": [],
   "source": [
    "# Convert the dates into datetime so we can work with them easily in the future\n",
    "\n",
    "df2['route_date'] = pd.to_datetime(df2['route_date'], format='%d/%m/%y')\n",
    "df2['route_month'] = df2['route_date'].dt.strftime('%Y-%m')"
   ]
  },
  {
   "cell_type": "code",
   "execution_count": null,
   "id": "6a3ae764-43a9-4104-91d4-66c1eb1fe859",
   "metadata": {},
   "outputs": [],
   "source": []
  },
  {
   "cell_type": "code",
   "execution_count": null,
   "id": "140ad965-efcf-4dbc-ac04-c7d30705106d",
   "metadata": {},
   "outputs": [],
   "source": [
    "# Quick checker for a driver by looking up their driver ID\n",
    "\n",
    "df_test = df2[df2['driver_id']==1454743]\n",
    "df_test[ (df_test['delivery_type']=='Forward Delivery') & (df_test['transaction_status']=='Success')]['parcel_size'].value_counts()"
   ]
  },
  {
   "cell_type": "code",
   "execution_count": null,
   "id": "ab48ce31-3712-4a94-97c4-c07947365046",
   "metadata": {},
   "outputs": [],
   "source": [
    "df_test[df_test['Route Zone'].isnull()].iloc[0]['Zone Type']"
   ]
  },
  {
   "cell_type": "code",
   "execution_count": null,
   "id": "b0f52c8a-1fbc-4b97-9082-278a472877eb",
   "metadata": {},
   "outputs": [],
   "source": []
  },
  {
   "cell_type": "code",
   "execution_count": null,
   "id": "c0252893-5e31-4606-9134-84e22d179782",
   "metadata": {},
   "outputs": [],
   "source": [
    "# Aggregate the transaction level data into route level\n",
    "\n",
    "route_id = []\n",
    "route_date = []\n",
    "route_month = []\n",
    "routed_driver_display_name = []\n",
    "routed_driver_type = []\n",
    "routed_driver_id = []\n",
    "\n",
    "parcels_delivered = []\n",
    "cod_parcels = []\n",
    "rpu_parcels = []\n",
    "route_fd_success_rate = []\n",
    "\n",
    "for i in df2['route_ID'].unique():\n",
    "  route_id.append(i)\n",
    "  temp = df2[df2['route_ID']==i]\n",
    "  route_date.append(temp.iloc[0]['route_date'])\n",
    "  route_month.append(temp.iloc[0]['route_month'])\n",
    "  routed_driver_display_name.append(temp.iloc[0]['driver_display_name'])\n",
    "  routed_driver_type.append(temp.iloc[0]['driver_type'])\n",
    "  routed_driver_id.append(temp.iloc[0]['driver_id'])\n",
    "\n",
    "  forward_delivery = temp[temp['delivery_type']=='Forward Delivery']\n",
    "\n",
    "  success_forward_delivery = forward_delivery[forward_delivery['transaction_status']=='Success']\n",
    "\n",
    "  parcels_delivered.append(len(success_forward_delivery))\n",
    "\n",
    "  if len(forward_delivery) == 0:\n",
    "    route_fd_success_rate.append(0)\n",
    "  else:\n",
    "    route_fd_success_rate.append(round(len(success_forward_delivery)/len(forward_delivery),4))\n",
    "\n",
    "  cod = temp[temp['cod_flag']=='cod']\n",
    "  success_cod = cod[cod['transaction_status']=='Success']\n",
    "  cod_parcels.append(len(success_cod))\n",
    "\n",
    "  rpu = temp[temp['delivery_type']=='Return Pickup']\n",
    "  success_rpu = rpu[rpu['transaction_status']=='Success']\n",
    "  rpu_parcels.append(len(success_rpu))"
   ]
  },
  {
   "cell_type": "code",
   "execution_count": null,
   "id": "2b43ff8a-95b4-4148-b722-43d433220258",
   "metadata": {},
   "outputs": [],
   "source": [
    "base = pd.DataFrame({'route_id':route_id, 'route_date':route_date, 'route_month':route_month, 'routed_driver_display_name':routed_driver_display_name, 'routed_driver_type':routed_driver_type, 'routed_driver_id':routed_driver_id,\n",
    "                     'parcels_delivered':parcels_delivered, 'cod_parcels':cod_parcels, 'rpu_parcels':rpu_parcels, 'route_fd_success_rate':route_fd_success_rate})"
   ]
  },
  {
   "cell_type": "code",
   "execution_count": null,
   "id": "a08e21ef-76d3-4274-a700-543fd8db5e36",
   "metadata": {},
   "outputs": [],
   "source": [
    "# base[base['routed_driver_display_name']=='H2 - HMB - ONG BENG YEE']"
   ]
  },
  {
   "cell_type": "code",
   "execution_count": null,
   "id": "e35150cf-8190-4ab6-9b06-5e0c5656fa3b",
   "metadata": {},
   "outputs": [],
   "source": [
    "# Calculate the estimated pay for each route based on zone type, driver tpye, parcel size, cod, rpu, and the route date\n",
    "\n",
    "estimated_pay = []\n",
    "\n",
    "for i in df2['route_ID'].unique():\n",
    "  temp = df2[df2['route_ID']==i].reset_index(drop=True)\n",
    "  temp = temp[temp['transaction_status']=='Success'].reset_index(drop=True)\n",
    "\n",
    "  pay = 0\n",
    "\n",
    "  for j in range(0,len(temp)):\n",
    "    temp2 = temp.iloc[j]\n",
    "# ...\n",
    "  estimated_pay.append(pay)"
   ]
  },
  {
   "cell_type": "code",
   "execution_count": null,
   "id": "0919ecbe-33ab-40a8-9fd1-77e9c59a9968",
   "metadata": {},
   "outputs": [],
   "source": [
    "base['estimated_pay'] = estimated_pay"
   ]
  },
  {
   "cell_type": "code",
   "execution_count": null,
   "id": "2ae5a5d5-e436-4461-9a0f-82f83e632251",
   "metadata": {},
   "outputs": [],
   "source": [
    "base[base['routed_driver_id']==1454743]['estimated_pay'].sum()"
   ]
  }
 ],
 "metadata": {
  "kernelspec": {
   "display_name": "Python 3 (ipykernel)",
   "language": "python",
   "name": "python3"
  },
  "language_info": {
   "codemirror_mode": {
    "name": "ipython",
    "version": 3
   },
   "file_extension": ".py",
   "mimetype": "text/x-python",
   "name": "python",
   "nbconvert_exporter": "python",
   "pygments_lexer": "ipython3",
   "version": "3.11.4"
  }
 },
 "nbformat": 4,
 "nbformat_minor": 5
}
